{
 "cells": [
  {
   "cell_type": "markdown",
   "metadata": {},
   "source": [
    "Lambda School Data Science\n",
    "\n",
    "*Unit 2, Sprint 1, Module 4*\n",
    "\n",
    "---"
   ]
  },
  {
   "cell_type": "markdown",
   "metadata": {
    "colab_type": "text",
    "id": "7IXUfiQ2UKj6"
   },
   "source": [
    "# Logistic Regression\n",
    "\n",
    "\n",
    "## Assignment 🌯\n",
    "\n",
    "You'll use a [**dataset of 400+ burrito reviews**](https://srcole.github.io/100burritos/). How accurately can you predict whether a burrito is rated 'Great'?\n",
    "\n",
    "> We have developed a 10-dimensional system for rating the burritos in San Diego. ... Generate models for what makes a burrito great and investigate correlations in its dimensions.\n",
    "\n",
    "- [ ] Do train/validate/test split. Train on reviews from 2016 & earlier. Validate on 2017. Test on 2018 & later.\n",
    "- [ ] Begin with baselines for classification.\n",
    "- [ ] Use scikit-learn for logistic regression.\n",
    "- [ ] Get your model's validation accuracy. (Multiple times if you try multiple iterations.)\n",
    "- [ ] Get your model's test accuracy. (One time, at the end.)\n",
    "- [ ] Commit your notebook to your fork of the GitHub repo.\n",
    "- [ ] Watch Aaron's [video #1](https://www.youtube.com/watch?v=pREaWFli-5I) (12 minutes) & [video #2](https://www.youtube.com/watch?v=bDQgVt4hFgY) (9 minutes) to learn about the mathematics of Logistic Regression.\n",
    "\n",
    "\n",
    "## Stretch Goals\n",
    "\n",
    "- [ ] Add your own stretch goal(s) !\n",
    "- [ ] Make exploratory visualizations.\n",
    "- [ ] Do one-hot encoding.\n",
    "- [ ] Do [feature scaling](https://scikit-learn.org/stable/modules/preprocessing.html).\n",
    "- [ ] Get and plot your coefficients.\n",
    "- [ ] Try [scikit-learn pipelines](https://scikit-learn.org/stable/modules/compose.html)."
   ]
  },
  {
   "cell_type": "code",
   "execution_count": null,
   "metadata": {
    "colab": {},
    "colab_type": "code",
    "id": "o9eSnDYhUGD7"
   },
   "outputs": [],
   "source": [
    "%%capture\n",
    "import sys\n",
    "\n",
    "# If you're on Colab:\n",
    "if 'google.colab' in sys.modules:\n",
    "    DATA_PATH = 'https://raw.githubusercontent.com/LambdaSchool/DS-Unit-2-Linear-Models/master/data/'\n",
    "    !pip install category_encoders==2.*\n",
    "\n",
    "# If you're working locally:\n",
    "else:\n",
    "    DATA_PATH = '../data/'"
   ]
  },
  {
   "cell_type": "code",
   "execution_count": null,
   "metadata": {},
   "outputs": [],
   "source": [
    "# Load data downloaded from https://srcole.github.io/100burritos/\n",
    "import pandas as pd\n",
    "df = pd.read_csv(DATA_PATH+'burritos/Burrito - 10D.csv')"
   ]
  },
  {
   "cell_type": "code",
   "execution_count": null,
   "metadata": {},
   "outputs": [],
   "source": [
    "# Derive binary classification target:\n",
    "# We define a 'Great' burrito as having an\n",
    "# overall rating of 4 or higher, on a 5 point scale.\n",
    "# Drop unrated burritos.\n",
    "df = df.dropna(subset=['overall'])\n",
    "df['Great'] = df['overall'] >= 4"
   ]
  },
  {
   "cell_type": "code",
   "execution_count": null,
   "metadata": {},
   "outputs": [],
   "source": [
    "# Clean/combine the Burrito categories\n",
    "df['Burrito'] = df['Burrito'].str.lower()\n",
    "\n",
    "california = df['Burrito'].str.contains('california')\n",
    "asada = df['Burrito'].str.contains('asada')\n",
    "surf = df['Burrito'].str.contains('surf')\n",
    "carnitas = df['Burrito'].str.contains('carnitas')\n",
    "\n",
    "df.loc[california, 'Burrito'] = 'California'\n",
    "df.loc[asada, 'Burrito'] = 'Asada'\n",
    "df.loc[surf, 'Burrito'] = 'Surf & Turf'\n",
    "df.loc[carnitas, 'Burrito'] = 'Carnitas'\n",
    "df.loc[~california & ~asada & ~surf & ~carnitas, 'Burrito'] = 'Other'"
   ]
  },
  {
   "cell_type": "code",
   "execution_count": null,
   "metadata": {},
   "outputs": [],
   "source": [
    "# Drop some high cardinality categoricals\n",
    "df = df.drop(columns=['Notes', 'Location', 'Reviewer', 'Address', 'URL', 'Neighborhood'])"
   ]
  },
  {
   "cell_type": "code",
   "execution_count": null,
   "metadata": {},
   "outputs": [],
   "source": [
    "# Drop some columns to prevent \"leakage\"\n",
    "df = df.drop(columns=['Rec', 'overall'])"
   ]
  },
  {
   "cell_type": "code",
   "execution_count": null,
   "metadata": {},
   "outputs": [],
   "source": []
  }
 ],
 "metadata": {
  "colab": {
   "collapsed_sections": [],
   "name": "assignment_regression_classification_4.ipynb",
   "provenance": [],
   "version": "0.3.2"
  },
  "kernelspec": {
   "display_name": "Python 3",
   "language": "python",
   "name": "python3"
  },
  "language_info": {
   "codemirror_mode": {
    "name": "ipython",
    "version": 3
   },
   "file_extension": ".py",
   "mimetype": "text/x-python",
   "name": "python",
   "nbconvert_exporter": "python",
   "pygments_lexer": "ipython3",
   "version": "3.7.3"
  }
 },
 "nbformat": 4,
 "nbformat_minor": 1
}
